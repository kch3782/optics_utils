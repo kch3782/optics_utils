{
 "cells": [
  {
   "cell_type": "code",
   "execution_count": null,
   "metadata": {},
   "outputs": [],
   "source": [
    "import torch\n",
    "import numpy as np\n",
    "from matplotlib import pyplot as plt\n",
    "\n",
    "# from optics_util.backend import select_backend\n",
    "import optics_utils\n",
    "\n",
    "lib = 'torch'\n",
    "\n",
    "optics_utils.backend.select_backend(lib)\n",
    "\n",
    "device = torch.device('cuda') if lib == 'torch' else None\n",
    "fn = optics_utils.backend.functions\n",
    "dtype = fn.float32\n",
    "\n",
    "\n",
    "nx, ny = 512, 512\n",
    "dx, dy = 0.3, 0.3\n",
    "\n",
    "dz = 1.0\n",
    "nz = 512\n",
    "\n",
    "# Lens\n",
    "f = 300.\n",
    "R = 50.\n",
    "lamb0 = 0.532\n",
    "\n",
    "if lib == 'torch':\n",
    "    xa = (fn.arange(0,nx,1,dtype=dtype).to(device)-(nx-1)/2)*dx\n",
    "    ya = (fn.arange(0,ny,1,dtype=dtype).to(device)-(ny-1)/2)*dy\n",
    "    za = (fn.arange(0,nz,1,dtype=dtype).to(device))*dz\n",
    "else:\n",
    "    xa = (fn.arange(0,nx,1,dtype=dtype)-(nx-1)/2)*dx\n",
    "    ya = (fn.arange(0,ny,1,dtype=dtype)-(ny-1)/2)*dy\n",
    "    za = (fn.arange(0,nz,1,dtype=dtype))*dz\n",
    "\n",
    "x, y = fn.meshgrid(xa,ya,indexing='ij')\n",
    "\n",
    "asm = optics_utils.Fourier_optics.ASM([nx,ny],[dx,dy],[f],[lamb0],sign=1,dtype=dtype,device=device)\n",
    "rs_asm = optics_utils.Fourier_optics.RotationalSymmetricASM(nx,nx*dx/2,za,[lamb0],sign=1,dtype=dtype,device=device)\n",
    "\n",
    "phase = fn.exp(1.j* (-2*fn.pi/lamb0 * (fn.sqrt(x**2+y**2+f**2) - f)))\n",
    "phase[x**2+y**2>R**2] = 0\n",
    "\n",
    "rs_phase = fn.exp(1.j* (-2*fn.pi/lamb0 * (fn.sqrt(rs_asm.r**2+f**2) - f)))\n",
    "rs_phase[rs_asm.r>R] = 0"
   ]
  },
  {
   "cell_type": "code",
   "execution_count": null,
   "metadata": {},
   "outputs": [],
   "source": [
    "plt.imshow(np.angle(phase.cpu()))\n",
    "plt.colorbar()"
   ]
  },
  {
   "cell_type": "code",
   "execution_count": null,
   "metadata": {},
   "outputs": [],
   "source": [
    "plane = asm.propagate(phase)\n",
    "plt.imshow(np.abs(plane[0,0,0,:,:].cpu())**2)\n",
    "plt.colorbar()"
   ]
  },
  {
   "cell_type": "code",
   "execution_count": null,
   "metadata": {},
   "outputs": [],
   "source": [
    "plt.plot(np.angle(rs_phase.cpu()))"
   ]
  },
  {
   "cell_type": "code",
   "execution_count": null,
   "metadata": {},
   "outputs": [],
   "source": [
    "plane = rs_asm.propagate(rs_phase)\n",
    "\n",
    "# There is distortion in r-axis due to non-uniform axis\n",
    "plt.imshow(np.abs(plane.cpu().squeeze())**2)\n",
    "plt.colorbar()"
   ]
  },
  {
   "cell_type": "code",
   "execution_count": null,
   "metadata": {},
   "outputs": [],
   "source": [
    "plt.plot(rs_asm.r.cpu(),np.abs(plane.cpu().squeeze()[300,:])**2)"
   ]
  }
 ],
 "metadata": {
  "kernelspec": {
   "display_name": "Python 3.9.12 ('base')",
   "language": "python",
   "name": "python3"
  },
  "language_info": {
   "codemirror_mode": {
    "name": "ipython",
    "version": 3
   },
   "file_extension": ".py",
   "mimetype": "text/x-python",
   "name": "python",
   "nbconvert_exporter": "python",
   "pygments_lexer": "ipython3",
   "version": "3.9.12"
  },
  "orig_nbformat": 4,
  "vscode": {
   "interpreter": {
    "hash": "a077222d77dfe082b8f1dd562ad70e458ac2ab76993a0b248ab0476e32e9e8dd"
   }
  }
 },
 "nbformat": 4,
 "nbformat_minor": 2
}
