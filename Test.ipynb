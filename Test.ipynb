{
 "cells": [
  {
   "cell_type": "code",
   "execution_count": null,
   "metadata": {},
   "outputs": [],
   "source": [
    "import torch\n",
    "import numpy as np\n",
    "from matplotlib import pyplot as plt\n",
    "\n",
    "from wave_optics import backend as bd\n",
    "from wave_optics import AngularSpecgtrumMethod, select_backend\n",
    "\n",
    "lib = 'numpy'\n",
    "\n",
    "device = torch.device('cuda') if lib == 'torch' else None\n",
    "\n",
    "select_backend(lib)\n",
    "\n",
    "nx, ny = 512, 512\n",
    "dx, dy = 0.3, 0.3\n",
    "\n",
    "# Lens\n",
    "f = 300.\n",
    "R = 50.\n",
    "lamb0 = 0.532\n",
    "\n",
    "if lib == 'torch':\n",
    "    xa = (bd.arange(0,nx,1).to(device)-(nx-1)/2)*dx\n",
    "    ya = (bd.arange(0,ny,1).to(device)-(ny-1)/2)*dy\n",
    "else:\n",
    "    xa = (bd.arange(0,nx,1)-(nx-1)/2)*dx\n",
    "    ya = (bd.arange(0,ny,1)-(ny-1)/2)*dy\n",
    "\n",
    "x, y = bd.meshgrid(xa,ya,indexing='ij')\n",
    "\n",
    "phase = bd.exp(1.j* (-2*bd.pi/lamb0 * (bd.sqrt(x**2+y**2+f**2) - f)))\n",
    "phase[x**2+y**2>R**2] = 0\n",
    "\n",
    "ASM = AngularSpecgtrumMethod([nx,ny],[dx,dy],[f],[lamb0],sign=1,device=device)\n"
   ]
  },
  {
   "cell_type": "code",
   "execution_count": null,
   "metadata": {},
   "outputs": [],
   "source": [
    "plt.imshow(np.angle(phase))\n",
    "plt.colorbar()"
   ]
  },
  {
   "cell_type": "code",
   "execution_count": null,
   "metadata": {},
   "outputs": [],
   "source": [
    "plane = ASM.propagate(phase)"
   ]
  },
  {
   "cell_type": "code",
   "execution_count": null,
   "metadata": {},
   "outputs": [],
   "source": [
    "plt.imshow(np.abs(plane[0,0,0,:,:])**2)\n",
    "plt.colorbar()"
   ]
  }
 ],
 "metadata": {
  "interpreter": {
   "hash": "cd9eae3ba6d911abdf82d01dc983e2454d7b08bf0711aaf7cf414d89b0bd989a"
  },
  "kernelspec": {
   "display_name": "Python 3.9.7 ('base')",
   "language": "python",
   "name": "python3"
  },
  "language_info": {
   "codemirror_mode": {
    "name": "ipython",
    "version": 3
   },
   "file_extension": ".py",
   "mimetype": "text/x-python",
   "name": "python",
   "nbconvert_exporter": "python",
   "pygments_lexer": "ipython3",
   "version": "3.9.7"
  },
  "orig_nbformat": 4
 },
 "nbformat": 4,
 "nbformat_minor": 2
}
